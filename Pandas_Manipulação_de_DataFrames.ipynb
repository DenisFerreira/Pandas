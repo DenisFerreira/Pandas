{
  "nbformat": 4,
  "nbformat_minor": 0,
  "metadata": {
    "colab": {
      "name": "Pandas Manipulação de DataFrames.ipynb",
      "provenance": [],
      "collapsed_sections": [],
      "include_colab_link": true
    },
    "kernelspec": {
      "name": "python3",
      "display_name": "Python 3"
    }
  },
  "cells": [
    {
      "cell_type": "markdown",
      "metadata": {
        "id": "view-in-github",
        "colab_type": "text"
      },
      "source": [
        "<a href=\"https://colab.research.google.com/github/DenisFerreira/Pandas/blob/main/Pandas_Manipula%C3%A7%C3%A3o_de_DataFrames.ipynb\" target=\"_parent\"><img src=\"https://colab.research.google.com/assets/colab-badge.svg\" alt=\"Open In Colab\"/></a>"
      ]
    },
    {
      "cell_type": "code",
      "metadata": {
        "id": "HX5njvHHkGFt"
      },
      "source": [
        "import pandas as pd\n",
        "import numpy as np\n",
        "import matplotlib.pyplot as plt\n",
        "\n",
        "%matplotlib inline"
      ],
      "execution_count": 21,
      "outputs": []
    },
    {
      "cell_type": "code",
      "metadata": {
        "colab": {
          "base_uri": "https://localhost:8080/"
        },
        "id": "PsPCe2Uuk1hT",
        "outputId": "2e6f5c2a-6aed-4fce-8760-444b0128fee5"
      },
      "source": [
        "notas = pd.Series([2,7,5,10,6])\n",
        "notas.values"
      ],
      "execution_count": 22,
      "outputs": [
        {
          "output_type": "execute_result",
          "data": {
            "text/plain": [
              "array([ 2,  7,  5, 10,  6])"
            ]
          },
          "metadata": {
            "tags": []
          },
          "execution_count": 22
        }
      ]
    },
    {
      "cell_type": "code",
      "metadata": {
        "colab": {
          "base_uri": "https://localhost:8080/"
        },
        "id": "UKl7e98rlQ1Z",
        "outputId": "d06926f0-e6b1-4924-9a58-d57769324ee5"
      },
      "source": [
        "notas = pd.Series([2,7,5,10,6], index=[\"Wilfred\", \"Abbie\", \"Harry\", \"Julia\", \"Carrie\"])\n",
        "notas"
      ],
      "execution_count": 23,
      "outputs": [
        {
          "output_type": "execute_result",
          "data": {
            "text/plain": [
              "Wilfred     2\n",
              "Abbie       7\n",
              "Harry       5\n",
              "Julia      10\n",
              "Carrie      6\n",
              "dtype: int64"
            ]
          },
          "metadata": {
            "tags": []
          },
          "execution_count": 23
        }
      ]
    },
    {
      "cell_type": "code",
      "metadata": {
        "colab": {
          "base_uri": "https://localhost:8080/"
        },
        "id": "j3jjQxMnlXi6",
        "outputId": "85f1b832-3025-4023-c3f1-1bfa663d63c0"
      },
      "source": [
        "notas[\"Julia\"]"
      ],
      "execution_count": 24,
      "outputs": [
        {
          "output_type": "execute_result",
          "data": {
            "text/plain": [
              "10"
            ]
          },
          "metadata": {
            "tags": []
          },
          "execution_count": 24
        }
      ]
    },
    {
      "cell_type": "code",
      "metadata": {
        "colab": {
          "base_uri": "https://localhost:8080/"
        },
        "id": "gfs_LKhos8mi",
        "outputId": "08f07fca-f7fa-469e-97eb-83d31c5fbb00"
      },
      "source": [
        "print(\"Média:\", notas.mean())\n",
        "print(\"Desvio padrão:\", notas.std())"
      ],
      "execution_count": 25,
      "outputs": [
        {
          "output_type": "stream",
          "text": [
            "Média: 6.0\n",
            "Desvio padrão: 2.9154759474226504\n"
          ],
          "name": "stdout"
        }
      ]
    },
    {
      "cell_type": "code",
      "metadata": {
        "colab": {
          "base_uri": "https://localhost:8080/"
        },
        "id": "Mk31g5EwtHUK",
        "outputId": "ef61be9b-aa03-4b44-8d04-fe36bff6e61f"
      },
      "source": [
        "notas.describe()"
      ],
      "execution_count": 26,
      "outputs": [
        {
          "output_type": "execute_result",
          "data": {
            "text/plain": [
              "count     5.000000\n",
              "mean      6.000000\n",
              "std       2.915476\n",
              "min       2.000000\n",
              "25%       5.000000\n",
              "50%       6.000000\n",
              "75%       7.000000\n",
              "max      10.000000\n",
              "dtype: float64"
            ]
          },
          "metadata": {
            "tags": []
          },
          "execution_count": 26
        }
      ]
    },
    {
      "cell_type": "code",
      "metadata": {
        "colab": {
          "base_uri": "https://localhost:8080/"
        },
        "id": "NHv9Z_cztXXs",
        "outputId": "90c80d1e-ad81-4d8e-9560-f8b8dd0dbdf2"
      },
      "source": [
        "notas**2"
      ],
      "execution_count": 27,
      "outputs": [
        {
          "output_type": "execute_result",
          "data": {
            "text/plain": [
              "Wilfred      4\n",
              "Abbie       49\n",
              "Harry       25\n",
              "Julia      100\n",
              "Carrie      36\n",
              "dtype: int64"
            ]
          },
          "metadata": {
            "tags": []
          },
          "execution_count": 27
        }
      ]
    },
    {
      "cell_type": "code",
      "metadata": {
        "colab": {
          "base_uri": "https://localhost:8080/"
        },
        "id": "64EDovk2tg38",
        "outputId": "7f75558e-0b19-492d-d851-1fc546264ac6"
      },
      "source": [
        "np.log(notas)"
      ],
      "execution_count": 28,
      "outputs": [
        {
          "output_type": "execute_result",
          "data": {
            "text/plain": [
              "Wilfred    0.693147\n",
              "Abbie      1.945910\n",
              "Harry      1.609438\n",
              "Julia      2.302585\n",
              "Carrie     1.791759\n",
              "dtype: float64"
            ]
          },
          "metadata": {
            "tags": []
          },
          "execution_count": 28
        }
      ]
    },
    {
      "cell_type": "code",
      "metadata": {
        "colab": {
          "base_uri": "https://localhost:8080/",
          "height": 204
        },
        "id": "PRoiDvY6tiP6",
        "outputId": "21028d9e-2708-4ca9-c6bb-dece0c4b9788"
      },
      "source": [
        "df = pd.DataFrame({'Aluno' : [\"Wilfred\", \"Abbie\", \"Harry\", \"Julia\", \"Carrie\"],\n",
        "                   'Faltas' : [3,4,2,1,4],\n",
        "                   'Prova' : [2,7,5,10,6],\n",
        "                   'Seminário': [8.5,7.5,9.0,7.5,8.0]})\n",
        "df.to_csv(\"aulas.csv\")\n",
        "pd.read_csv(\"aulas.csv\")"
      ],
      "execution_count": 29,
      "outputs": [
        {
          "output_type": "execute_result",
          "data": {
            "text/html": [
              "<div>\n",
              "<style scoped>\n",
              "    .dataframe tbody tr th:only-of-type {\n",
              "        vertical-align: middle;\n",
              "    }\n",
              "\n",
              "    .dataframe tbody tr th {\n",
              "        vertical-align: top;\n",
              "    }\n",
              "\n",
              "    .dataframe thead th {\n",
              "        text-align: right;\n",
              "    }\n",
              "</style>\n",
              "<table border=\"1\" class=\"dataframe\">\n",
              "  <thead>\n",
              "    <tr style=\"text-align: right;\">\n",
              "      <th></th>\n",
              "      <th>Unnamed: 0</th>\n",
              "      <th>Aluno</th>\n",
              "      <th>Faltas</th>\n",
              "      <th>Prova</th>\n",
              "      <th>Seminário</th>\n",
              "    </tr>\n",
              "  </thead>\n",
              "  <tbody>\n",
              "    <tr>\n",
              "      <th>0</th>\n",
              "      <td>0</td>\n",
              "      <td>Wilfred</td>\n",
              "      <td>3</td>\n",
              "      <td>2</td>\n",
              "      <td>8.5</td>\n",
              "    </tr>\n",
              "    <tr>\n",
              "      <th>1</th>\n",
              "      <td>1</td>\n",
              "      <td>Abbie</td>\n",
              "      <td>4</td>\n",
              "      <td>7</td>\n",
              "      <td>7.5</td>\n",
              "    </tr>\n",
              "    <tr>\n",
              "      <th>2</th>\n",
              "      <td>2</td>\n",
              "      <td>Harry</td>\n",
              "      <td>2</td>\n",
              "      <td>5</td>\n",
              "      <td>9.0</td>\n",
              "    </tr>\n",
              "    <tr>\n",
              "      <th>3</th>\n",
              "      <td>3</td>\n",
              "      <td>Julia</td>\n",
              "      <td>1</td>\n",
              "      <td>10</td>\n",
              "      <td>7.5</td>\n",
              "    </tr>\n",
              "    <tr>\n",
              "      <th>4</th>\n",
              "      <td>4</td>\n",
              "      <td>Carrie</td>\n",
              "      <td>4</td>\n",
              "      <td>6</td>\n",
              "      <td>8.0</td>\n",
              "    </tr>\n",
              "  </tbody>\n",
              "</table>\n",
              "</div>"
            ],
            "text/plain": [
              "   Unnamed: 0    Aluno  Faltas  Prova  Seminário\n",
              "0           0  Wilfred       3      2        8.5\n",
              "1           1    Abbie       4      7        7.5\n",
              "2           2    Harry       2      5        9.0\n",
              "3           3    Julia       1     10        7.5\n",
              "4           4   Carrie       4      6        8.0"
            ]
          },
          "metadata": {
            "tags": []
          },
          "execution_count": 29
        }
      ]
    },
    {
      "cell_type": "code",
      "metadata": {
        "colab": {
          "base_uri": "https://localhost:8080/"
        },
        "id": "bzGvSG1DtqwZ",
        "outputId": "6a87bd30-6bbe-4c78-c35c-fbf5b9978da1"
      },
      "source": [
        "df.dtypes\n"
      ],
      "execution_count": 30,
      "outputs": [
        {
          "output_type": "execute_result",
          "data": {
            "text/plain": [
              "Aluno         object\n",
              "Faltas         int64\n",
              "Prova          int64\n",
              "Seminário    float64\n",
              "dtype: object"
            ]
          },
          "metadata": {
            "tags": []
          },
          "execution_count": 30
        }
      ]
    },
    {
      "cell_type": "code",
      "metadata": {
        "colab": {
          "base_uri": "https://localhost:8080/"
        },
        "id": "eWqPcd1ht0Ly",
        "outputId": "fe0d8fff-2cdc-4936-e38d-f30783e8b76d"
      },
      "source": [
        "df.columns"
      ],
      "execution_count": 31,
      "outputs": [
        {
          "output_type": "execute_result",
          "data": {
            "text/plain": [
              "Index(['Aluno', 'Faltas', 'Prova', 'Seminário'], dtype='object')"
            ]
          },
          "metadata": {
            "tags": []
          },
          "execution_count": 31
        }
      ]
    },
    {
      "cell_type": "code",
      "metadata": {
        "colab": {
          "base_uri": "https://localhost:8080/"
        },
        "id": "WQBnU_c-t52R",
        "outputId": "84c84a41-1334-4e16-87c0-67c70dd04559"
      },
      "source": [
        "df[\"Seminário\"]"
      ],
      "execution_count": 32,
      "outputs": [
        {
          "output_type": "execute_result",
          "data": {
            "text/plain": [
              "0    8.5\n",
              "1    7.5\n",
              "2    9.0\n",
              "3    7.5\n",
              "4    8.0\n",
              "Name: Seminário, dtype: float64"
            ]
          },
          "metadata": {
            "tags": []
          },
          "execution_count": 32
        }
      ]
    },
    {
      "cell_type": "code",
      "metadata": {
        "colab": {
          "base_uri": "https://localhost:8080/",
          "height": 297
        },
        "id": "zXnNNMzvuBwC",
        "outputId": "631537f0-6e27-4b39-d4ca-d7ea774f4952"
      },
      "source": [
        "df.describe()"
      ],
      "execution_count": 33,
      "outputs": [
        {
          "output_type": "execute_result",
          "data": {
            "text/html": [
              "<div>\n",
              "<style scoped>\n",
              "    .dataframe tbody tr th:only-of-type {\n",
              "        vertical-align: middle;\n",
              "    }\n",
              "\n",
              "    .dataframe tbody tr th {\n",
              "        vertical-align: top;\n",
              "    }\n",
              "\n",
              "    .dataframe thead th {\n",
              "        text-align: right;\n",
              "    }\n",
              "</style>\n",
              "<table border=\"1\" class=\"dataframe\">\n",
              "  <thead>\n",
              "    <tr style=\"text-align: right;\">\n",
              "      <th></th>\n",
              "      <th>Faltas</th>\n",
              "      <th>Prova</th>\n",
              "      <th>Seminário</th>\n",
              "    </tr>\n",
              "  </thead>\n",
              "  <tbody>\n",
              "    <tr>\n",
              "      <th>count</th>\n",
              "      <td>5.00000</td>\n",
              "      <td>5.000000</td>\n",
              "      <td>5.00000</td>\n",
              "    </tr>\n",
              "    <tr>\n",
              "      <th>mean</th>\n",
              "      <td>2.80000</td>\n",
              "      <td>6.000000</td>\n",
              "      <td>8.10000</td>\n",
              "    </tr>\n",
              "    <tr>\n",
              "      <th>std</th>\n",
              "      <td>1.30384</td>\n",
              "      <td>2.915476</td>\n",
              "      <td>0.65192</td>\n",
              "    </tr>\n",
              "    <tr>\n",
              "      <th>min</th>\n",
              "      <td>1.00000</td>\n",
              "      <td>2.000000</td>\n",
              "      <td>7.50000</td>\n",
              "    </tr>\n",
              "    <tr>\n",
              "      <th>25%</th>\n",
              "      <td>2.00000</td>\n",
              "      <td>5.000000</td>\n",
              "      <td>7.50000</td>\n",
              "    </tr>\n",
              "    <tr>\n",
              "      <th>50%</th>\n",
              "      <td>3.00000</td>\n",
              "      <td>6.000000</td>\n",
              "      <td>8.00000</td>\n",
              "    </tr>\n",
              "    <tr>\n",
              "      <th>75%</th>\n",
              "      <td>4.00000</td>\n",
              "      <td>7.000000</td>\n",
              "      <td>8.50000</td>\n",
              "    </tr>\n",
              "    <tr>\n",
              "      <th>max</th>\n",
              "      <td>4.00000</td>\n",
              "      <td>10.000000</td>\n",
              "      <td>9.00000</td>\n",
              "    </tr>\n",
              "  </tbody>\n",
              "</table>\n",
              "</div>"
            ],
            "text/plain": [
              "        Faltas      Prova  Seminário\n",
              "count  5.00000   5.000000    5.00000\n",
              "mean   2.80000   6.000000    8.10000\n",
              "std    1.30384   2.915476    0.65192\n",
              "min    1.00000   2.000000    7.50000\n",
              "25%    2.00000   5.000000    7.50000\n",
              "50%    3.00000   6.000000    8.00000\n",
              "75%    4.00000   7.000000    8.50000\n",
              "max    4.00000  10.000000    9.00000"
            ]
          },
          "metadata": {
            "tags": []
          },
          "execution_count": 33
        }
      ]
    },
    {
      "cell_type": "code",
      "metadata": {
        "colab": {
          "base_uri": "https://localhost:8080/",
          "height": 204
        },
        "id": "fjcGLoCTuILi",
        "outputId": "841064da-a759-46e5-bbce-7d809af38dc9"
      },
      "source": [
        "df.sort_values(by=\"Seminário\")"
      ],
      "execution_count": 34,
      "outputs": [
        {
          "output_type": "execute_result",
          "data": {
            "text/html": [
              "<div>\n",
              "<style scoped>\n",
              "    .dataframe tbody tr th:only-of-type {\n",
              "        vertical-align: middle;\n",
              "    }\n",
              "\n",
              "    .dataframe tbody tr th {\n",
              "        vertical-align: top;\n",
              "    }\n",
              "\n",
              "    .dataframe thead th {\n",
              "        text-align: right;\n",
              "    }\n",
              "</style>\n",
              "<table border=\"1\" class=\"dataframe\">\n",
              "  <thead>\n",
              "    <tr style=\"text-align: right;\">\n",
              "      <th></th>\n",
              "      <th>Aluno</th>\n",
              "      <th>Faltas</th>\n",
              "      <th>Prova</th>\n",
              "      <th>Seminário</th>\n",
              "    </tr>\n",
              "  </thead>\n",
              "  <tbody>\n",
              "    <tr>\n",
              "      <th>1</th>\n",
              "      <td>Abbie</td>\n",
              "      <td>4</td>\n",
              "      <td>7</td>\n",
              "      <td>7.5</td>\n",
              "    </tr>\n",
              "    <tr>\n",
              "      <th>3</th>\n",
              "      <td>Julia</td>\n",
              "      <td>1</td>\n",
              "      <td>10</td>\n",
              "      <td>7.5</td>\n",
              "    </tr>\n",
              "    <tr>\n",
              "      <th>4</th>\n",
              "      <td>Carrie</td>\n",
              "      <td>4</td>\n",
              "      <td>6</td>\n",
              "      <td>8.0</td>\n",
              "    </tr>\n",
              "    <tr>\n",
              "      <th>0</th>\n",
              "      <td>Wilfred</td>\n",
              "      <td>3</td>\n",
              "      <td>2</td>\n",
              "      <td>8.5</td>\n",
              "    </tr>\n",
              "    <tr>\n",
              "      <th>2</th>\n",
              "      <td>Harry</td>\n",
              "      <td>2</td>\n",
              "      <td>5</td>\n",
              "      <td>9.0</td>\n",
              "    </tr>\n",
              "  </tbody>\n",
              "</table>\n",
              "</div>"
            ],
            "text/plain": [
              "     Aluno  Faltas  Prova  Seminário\n",
              "1    Abbie       4      7        7.5\n",
              "3    Julia       1     10        7.5\n",
              "4   Carrie       4      6        8.0\n",
              "0  Wilfred       3      2        8.5\n",
              "2    Harry       2      5        9.0"
            ]
          },
          "metadata": {
            "tags": []
          },
          "execution_count": 34
        }
      ]
    },
    {
      "cell_type": "code",
      "metadata": {
        "colab": {
          "base_uri": "https://localhost:8080/"
        },
        "id": "OvH5n1DHudZL",
        "outputId": "59afd84c-68c6-4b03-b9b4-b1cbd0602ee0"
      },
      "source": [
        "df.loc[3]"
      ],
      "execution_count": 35,
      "outputs": [
        {
          "output_type": "execute_result",
          "data": {
            "text/plain": [
              "Aluno        Julia\n",
              "Faltas           1\n",
              "Prova           10\n",
              "Seminário      7.5\n",
              "Name: 3, dtype: object"
            ]
          },
          "metadata": {
            "tags": []
          },
          "execution_count": 35
        }
      ]
    },
    {
      "cell_type": "code",
      "metadata": {
        "colab": {
          "base_uri": "https://localhost:8080/",
          "height": 111
        },
        "id": "RnNNEi2cuiZL",
        "outputId": "08d2f3e2-5a84-480d-a61a-011371c661f4"
      },
      "source": [
        "df[df[\"Seminário\"] > 8.0]\n"
      ],
      "execution_count": 36,
      "outputs": [
        {
          "output_type": "execute_result",
          "data": {
            "text/html": [
              "<div>\n",
              "<style scoped>\n",
              "    .dataframe tbody tr th:only-of-type {\n",
              "        vertical-align: middle;\n",
              "    }\n",
              "\n",
              "    .dataframe tbody tr th {\n",
              "        vertical-align: top;\n",
              "    }\n",
              "\n",
              "    .dataframe thead th {\n",
              "        text-align: right;\n",
              "    }\n",
              "</style>\n",
              "<table border=\"1\" class=\"dataframe\">\n",
              "  <thead>\n",
              "    <tr style=\"text-align: right;\">\n",
              "      <th></th>\n",
              "      <th>Aluno</th>\n",
              "      <th>Faltas</th>\n",
              "      <th>Prova</th>\n",
              "      <th>Seminário</th>\n",
              "    </tr>\n",
              "  </thead>\n",
              "  <tbody>\n",
              "    <tr>\n",
              "      <th>0</th>\n",
              "      <td>Wilfred</td>\n",
              "      <td>3</td>\n",
              "      <td>2</td>\n",
              "      <td>8.5</td>\n",
              "    </tr>\n",
              "    <tr>\n",
              "      <th>2</th>\n",
              "      <td>Harry</td>\n",
              "      <td>2</td>\n",
              "      <td>5</td>\n",
              "      <td>9.0</td>\n",
              "    </tr>\n",
              "  </tbody>\n",
              "</table>\n",
              "</div>"
            ],
            "text/plain": [
              "     Aluno  Faltas  Prova  Seminário\n",
              "0  Wilfred       3      2        8.5\n",
              "2    Harry       2      5        9.0"
            ]
          },
          "metadata": {
            "tags": []
          },
          "execution_count": 36
        }
      ]
    },
    {
      "cell_type": "code",
      "metadata": {
        "colab": {
          "base_uri": "https://localhost:8080/",
          "height": 80
        },
        "id": "eJOB-om-upyD",
        "outputId": "251c65fb-8416-4f2b-fff2-920180c32c36"
      },
      "source": [
        "df[(df[\"Seminário\"] > 8.0) & (df[\"Prova\"] > 3)]\n"
      ],
      "execution_count": 37,
      "outputs": [
        {
          "output_type": "execute_result",
          "data": {
            "text/html": [
              "<div>\n",
              "<style scoped>\n",
              "    .dataframe tbody tr th:only-of-type {\n",
              "        vertical-align: middle;\n",
              "    }\n",
              "\n",
              "    .dataframe tbody tr th {\n",
              "        vertical-align: top;\n",
              "    }\n",
              "\n",
              "    .dataframe thead th {\n",
              "        text-align: right;\n",
              "    }\n",
              "</style>\n",
              "<table border=\"1\" class=\"dataframe\">\n",
              "  <thead>\n",
              "    <tr style=\"text-align: right;\">\n",
              "      <th></th>\n",
              "      <th>Aluno</th>\n",
              "      <th>Faltas</th>\n",
              "      <th>Prova</th>\n",
              "      <th>Seminário</th>\n",
              "    </tr>\n",
              "  </thead>\n",
              "  <tbody>\n",
              "    <tr>\n",
              "      <th>2</th>\n",
              "      <td>Harry</td>\n",
              "      <td>2</td>\n",
              "      <td>5</td>\n",
              "      <td>9.0</td>\n",
              "    </tr>\n",
              "  </tbody>\n",
              "</table>\n",
              "</div>"
            ],
            "text/plain": [
              "   Aluno  Faltas  Prova  Seminário\n",
              "2  Harry       2      5        9.0"
            ]
          },
          "metadata": {
            "tags": []
          },
          "execution_count": 37
        }
      ]
    },
    {
      "cell_type": "code",
      "metadata": {
        "colab": {
          "base_uri": "https://localhost:8080/",
          "height": 419
        },
        "id": "Xc3KoTqEvIWk",
        "outputId": "05502434-5e3b-4817-c7f5-0a7843cef2b4"
      },
      "source": [
        "df = pd.read_csv(\"https://raw.githubusercontent.com/DenisFerreira/Pandas/main/dados.csv\")\n",
        "df"
      ],
      "execution_count": 38,
      "outputs": [
        {
          "output_type": "execute_result",
          "data": {
            "text/html": [
              "<div>\n",
              "<style scoped>\n",
              "    .dataframe tbody tr th:only-of-type {\n",
              "        vertical-align: middle;\n",
              "    }\n",
              "\n",
              "    .dataframe tbody tr th {\n",
              "        vertical-align: top;\n",
              "    }\n",
              "\n",
              "    .dataframe thead th {\n",
              "        text-align: right;\n",
              "    }\n",
              "</style>\n",
              "<table border=\"1\" class=\"dataframe\">\n",
              "  <thead>\n",
              "    <tr style=\"text-align: right;\">\n",
              "      <th></th>\n",
              "      <th>condominio</th>\n",
              "      <th>quartos</th>\n",
              "      <th>suites</th>\n",
              "      <th>vagas</th>\n",
              "      <th>area</th>\n",
              "      <th>bairro</th>\n",
              "      <th>preco</th>\n",
              "      <th>pm2</th>\n",
              "    </tr>\n",
              "  </thead>\n",
              "  <tbody>\n",
              "    <tr>\n",
              "      <th>0</th>\n",
              "      <td>350</td>\n",
              "      <td>1</td>\n",
              "      <td>0.0</td>\n",
              "      <td>1.0</td>\n",
              "      <td>21</td>\n",
              "      <td>Botafogo</td>\n",
              "      <td>340000</td>\n",
              "      <td>16190.48</td>\n",
              "    </tr>\n",
              "    <tr>\n",
              "      <th>1</th>\n",
              "      <td>800</td>\n",
              "      <td>1</td>\n",
              "      <td>0.0</td>\n",
              "      <td>1.0</td>\n",
              "      <td>64</td>\n",
              "      <td>Botafogo</td>\n",
              "      <td>770000</td>\n",
              "      <td>12031.25</td>\n",
              "    </tr>\n",
              "    <tr>\n",
              "      <th>2</th>\n",
              "      <td>674</td>\n",
              "      <td>1</td>\n",
              "      <td>0.0</td>\n",
              "      <td>1.0</td>\n",
              "      <td>61</td>\n",
              "      <td>Botafogo</td>\n",
              "      <td>600000</td>\n",
              "      <td>9836.07</td>\n",
              "    </tr>\n",
              "    <tr>\n",
              "      <th>3</th>\n",
              "      <td>700</td>\n",
              "      <td>1</td>\n",
              "      <td>1.0</td>\n",
              "      <td>1.0</td>\n",
              "      <td>70</td>\n",
              "      <td>Botafogo</td>\n",
              "      <td>700000</td>\n",
              "      <td>10000.00</td>\n",
              "    </tr>\n",
              "    <tr>\n",
              "      <th>4</th>\n",
              "      <td>440</td>\n",
              "      <td>1</td>\n",
              "      <td>0.0</td>\n",
              "      <td>1.0</td>\n",
              "      <td>44</td>\n",
              "      <td>Botafogo</td>\n",
              "      <td>515000</td>\n",
              "      <td>11704.55</td>\n",
              "    </tr>\n",
              "    <tr>\n",
              "      <th>...</th>\n",
              "      <td>...</td>\n",
              "      <td>...</td>\n",
              "      <td>...</td>\n",
              "      <td>...</td>\n",
              "      <td>...</td>\n",
              "      <td>...</td>\n",
              "      <td>...</td>\n",
              "      <td>...</td>\n",
              "    </tr>\n",
              "    <tr>\n",
              "      <th>1992</th>\n",
              "      <td>1080</td>\n",
              "      <td>3</td>\n",
              "      <td>1.0</td>\n",
              "      <td>1.0</td>\n",
              "      <td>80</td>\n",
              "      <td>Tijuca</td>\n",
              "      <td>680000</td>\n",
              "      <td>8500.00</td>\n",
              "    </tr>\n",
              "    <tr>\n",
              "      <th>1993</th>\n",
              "      <td>750</td>\n",
              "      <td>3</td>\n",
              "      <td>0.0</td>\n",
              "      <td>1.0</td>\n",
              "      <td>82</td>\n",
              "      <td>Tijuca</td>\n",
              "      <td>650000</td>\n",
              "      <td>7926.83</td>\n",
              "    </tr>\n",
              "    <tr>\n",
              "      <th>1994</th>\n",
              "      <td>700</td>\n",
              "      <td>3</td>\n",
              "      <td>1.0</td>\n",
              "      <td>1.0</td>\n",
              "      <td>100</td>\n",
              "      <td>Tijuca</td>\n",
              "      <td>629900</td>\n",
              "      <td>6299.00</td>\n",
              "    </tr>\n",
              "    <tr>\n",
              "      <th>1995</th>\n",
              "      <td>1850</td>\n",
              "      <td>3</td>\n",
              "      <td>1.0</td>\n",
              "      <td>2.0</td>\n",
              "      <td>166</td>\n",
              "      <td>Tijuca</td>\n",
              "      <td>1600000</td>\n",
              "      <td>9638.55</td>\n",
              "    </tr>\n",
              "    <tr>\n",
              "      <th>1996</th>\n",
              "      <td>800</td>\n",
              "      <td>3</td>\n",
              "      <td>1.0</td>\n",
              "      <td>1.0</td>\n",
              "      <td>107</td>\n",
              "      <td>Tijuca</td>\n",
              "      <td>540000</td>\n",
              "      <td>5046.73</td>\n",
              "    </tr>\n",
              "  </tbody>\n",
              "</table>\n",
              "<p>1997 rows × 8 columns</p>\n",
              "</div>"
            ],
            "text/plain": [
              "      condominio  quartos  suites  vagas  area    bairro    preco       pm2\n",
              "0            350        1     0.0    1.0    21  Botafogo   340000  16190.48\n",
              "1            800        1     0.0    1.0    64  Botafogo   770000  12031.25\n",
              "2            674        1     0.0    1.0    61  Botafogo   600000   9836.07\n",
              "3            700        1     1.0    1.0    70  Botafogo   700000  10000.00\n",
              "4            440        1     0.0    1.0    44  Botafogo   515000  11704.55\n",
              "...          ...      ...     ...    ...   ...       ...      ...       ...\n",
              "1992        1080        3     1.0    1.0    80    Tijuca   680000   8500.00\n",
              "1993         750        3     0.0    1.0    82    Tijuca   650000   7926.83\n",
              "1994         700        3     1.0    1.0   100    Tijuca   629900   6299.00\n",
              "1995        1850        3     1.0    2.0   166    Tijuca  1600000   9638.55\n",
              "1996         800        3     1.0    1.0   107    Tijuca   540000   5046.73\n",
              "\n",
              "[1997 rows x 8 columns]"
            ]
          },
          "metadata": {
            "tags": []
          },
          "execution_count": 38
        }
      ]
    },
    {
      "cell_type": "code",
      "metadata": {
        "colab": {
          "base_uri": "https://localhost:8080/",
          "height": 359
        },
        "id": "Wu4kk4AZwoxG",
        "outputId": "0d22a191-076c-417e-d385-39e7d7cfcc0c"
      },
      "source": [
        "df.head(n=10)\n"
      ],
      "execution_count": 39,
      "outputs": [
        {
          "output_type": "execute_result",
          "data": {
            "text/html": [
              "<div>\n",
              "<style scoped>\n",
              "    .dataframe tbody tr th:only-of-type {\n",
              "        vertical-align: middle;\n",
              "    }\n",
              "\n",
              "    .dataframe tbody tr th {\n",
              "        vertical-align: top;\n",
              "    }\n",
              "\n",
              "    .dataframe thead th {\n",
              "        text-align: right;\n",
              "    }\n",
              "</style>\n",
              "<table border=\"1\" class=\"dataframe\">\n",
              "  <thead>\n",
              "    <tr style=\"text-align: right;\">\n",
              "      <th></th>\n",
              "      <th>condominio</th>\n",
              "      <th>quartos</th>\n",
              "      <th>suites</th>\n",
              "      <th>vagas</th>\n",
              "      <th>area</th>\n",
              "      <th>bairro</th>\n",
              "      <th>preco</th>\n",
              "      <th>pm2</th>\n",
              "    </tr>\n",
              "  </thead>\n",
              "  <tbody>\n",
              "    <tr>\n",
              "      <th>0</th>\n",
              "      <td>350</td>\n",
              "      <td>1</td>\n",
              "      <td>0.0</td>\n",
              "      <td>1.0</td>\n",
              "      <td>21</td>\n",
              "      <td>Botafogo</td>\n",
              "      <td>340000</td>\n",
              "      <td>16190.48</td>\n",
              "    </tr>\n",
              "    <tr>\n",
              "      <th>1</th>\n",
              "      <td>800</td>\n",
              "      <td>1</td>\n",
              "      <td>0.0</td>\n",
              "      <td>1.0</td>\n",
              "      <td>64</td>\n",
              "      <td>Botafogo</td>\n",
              "      <td>770000</td>\n",
              "      <td>12031.25</td>\n",
              "    </tr>\n",
              "    <tr>\n",
              "      <th>2</th>\n",
              "      <td>674</td>\n",
              "      <td>1</td>\n",
              "      <td>0.0</td>\n",
              "      <td>1.0</td>\n",
              "      <td>61</td>\n",
              "      <td>Botafogo</td>\n",
              "      <td>600000</td>\n",
              "      <td>9836.07</td>\n",
              "    </tr>\n",
              "    <tr>\n",
              "      <th>3</th>\n",
              "      <td>700</td>\n",
              "      <td>1</td>\n",
              "      <td>1.0</td>\n",
              "      <td>1.0</td>\n",
              "      <td>70</td>\n",
              "      <td>Botafogo</td>\n",
              "      <td>700000</td>\n",
              "      <td>10000.00</td>\n",
              "    </tr>\n",
              "    <tr>\n",
              "      <th>4</th>\n",
              "      <td>440</td>\n",
              "      <td>1</td>\n",
              "      <td>0.0</td>\n",
              "      <td>1.0</td>\n",
              "      <td>44</td>\n",
              "      <td>Botafogo</td>\n",
              "      <td>515000</td>\n",
              "      <td>11704.55</td>\n",
              "    </tr>\n",
              "    <tr>\n",
              "      <th>5</th>\n",
              "      <td>917</td>\n",
              "      <td>1</td>\n",
              "      <td>1.0</td>\n",
              "      <td>1.0</td>\n",
              "      <td>60</td>\n",
              "      <td>Botafogo</td>\n",
              "      <td>630000</td>\n",
              "      <td>10500.00</td>\n",
              "    </tr>\n",
              "    <tr>\n",
              "      <th>6</th>\n",
              "      <td>850</td>\n",
              "      <td>1</td>\n",
              "      <td>1.0</td>\n",
              "      <td>1.0</td>\n",
              "      <td>65</td>\n",
              "      <td>Botafogo</td>\n",
              "      <td>740000</td>\n",
              "      <td>11384.62</td>\n",
              "    </tr>\n",
              "    <tr>\n",
              "      <th>7</th>\n",
              "      <td>350</td>\n",
              "      <td>1</td>\n",
              "      <td>1.0</td>\n",
              "      <td>1.0</td>\n",
              "      <td>43</td>\n",
              "      <td>Botafogo</td>\n",
              "      <td>570000</td>\n",
              "      <td>13255.81</td>\n",
              "    </tr>\n",
              "    <tr>\n",
              "      <th>8</th>\n",
              "      <td>440</td>\n",
              "      <td>1</td>\n",
              "      <td>1.0</td>\n",
              "      <td>1.0</td>\n",
              "      <td>26</td>\n",
              "      <td>Botafogo</td>\n",
              "      <td>430000</td>\n",
              "      <td>16538.46</td>\n",
              "    </tr>\n",
              "    <tr>\n",
              "      <th>9</th>\n",
              "      <td>510</td>\n",
              "      <td>1</td>\n",
              "      <td>1.0</td>\n",
              "      <td>1.0</td>\n",
              "      <td>42</td>\n",
              "      <td>Botafogo</td>\n",
              "      <td>500000</td>\n",
              "      <td>11904.76</td>\n",
              "    </tr>\n",
              "  </tbody>\n",
              "</table>\n",
              "</div>"
            ],
            "text/plain": [
              "   condominio  quartos  suites  vagas  area    bairro   preco       pm2\n",
              "0         350        1     0.0    1.0    21  Botafogo  340000  16190.48\n",
              "1         800        1     0.0    1.0    64  Botafogo  770000  12031.25\n",
              "2         674        1     0.0    1.0    61  Botafogo  600000   9836.07\n",
              "3         700        1     1.0    1.0    70  Botafogo  700000  10000.00\n",
              "4         440        1     0.0    1.0    44  Botafogo  515000  11704.55\n",
              "5         917        1     1.0    1.0    60  Botafogo  630000  10500.00\n",
              "6         850        1     1.0    1.0    65  Botafogo  740000  11384.62\n",
              "7         350        1     1.0    1.0    43  Botafogo  570000  13255.81\n",
              "8         440        1     1.0    1.0    26  Botafogo  430000  16538.46\n",
              "9         510        1     1.0    1.0    42  Botafogo  500000  11904.76"
            ]
          },
          "metadata": {
            "tags": []
          },
          "execution_count": 39
        }
      ]
    },
    {
      "cell_type": "code",
      "metadata": {
        "colab": {
          "base_uri": "https://localhost:8080/",
          "height": 204
        },
        "id": "NAWdIlWJwwq1",
        "outputId": "49a0cc43-1c23-4235-dcbf-41d1eaf7cf56"
      },
      "source": [
        "df.tail()\n"
      ],
      "execution_count": 40,
      "outputs": [
        {
          "output_type": "execute_result",
          "data": {
            "text/html": [
              "<div>\n",
              "<style scoped>\n",
              "    .dataframe tbody tr th:only-of-type {\n",
              "        vertical-align: middle;\n",
              "    }\n",
              "\n",
              "    .dataframe tbody tr th {\n",
              "        vertical-align: top;\n",
              "    }\n",
              "\n",
              "    .dataframe thead th {\n",
              "        text-align: right;\n",
              "    }\n",
              "</style>\n",
              "<table border=\"1\" class=\"dataframe\">\n",
              "  <thead>\n",
              "    <tr style=\"text-align: right;\">\n",
              "      <th></th>\n",
              "      <th>condominio</th>\n",
              "      <th>quartos</th>\n",
              "      <th>suites</th>\n",
              "      <th>vagas</th>\n",
              "      <th>area</th>\n",
              "      <th>bairro</th>\n",
              "      <th>preco</th>\n",
              "      <th>pm2</th>\n",
              "    </tr>\n",
              "  </thead>\n",
              "  <tbody>\n",
              "    <tr>\n",
              "      <th>1992</th>\n",
              "      <td>1080</td>\n",
              "      <td>3</td>\n",
              "      <td>1.0</td>\n",
              "      <td>1.0</td>\n",
              "      <td>80</td>\n",
              "      <td>Tijuca</td>\n",
              "      <td>680000</td>\n",
              "      <td>8500.00</td>\n",
              "    </tr>\n",
              "    <tr>\n",
              "      <th>1993</th>\n",
              "      <td>750</td>\n",
              "      <td>3</td>\n",
              "      <td>0.0</td>\n",
              "      <td>1.0</td>\n",
              "      <td>82</td>\n",
              "      <td>Tijuca</td>\n",
              "      <td>650000</td>\n",
              "      <td>7926.83</td>\n",
              "    </tr>\n",
              "    <tr>\n",
              "      <th>1994</th>\n",
              "      <td>700</td>\n",
              "      <td>3</td>\n",
              "      <td>1.0</td>\n",
              "      <td>1.0</td>\n",
              "      <td>100</td>\n",
              "      <td>Tijuca</td>\n",
              "      <td>629900</td>\n",
              "      <td>6299.00</td>\n",
              "    </tr>\n",
              "    <tr>\n",
              "      <th>1995</th>\n",
              "      <td>1850</td>\n",
              "      <td>3</td>\n",
              "      <td>1.0</td>\n",
              "      <td>2.0</td>\n",
              "      <td>166</td>\n",
              "      <td>Tijuca</td>\n",
              "      <td>1600000</td>\n",
              "      <td>9638.55</td>\n",
              "    </tr>\n",
              "    <tr>\n",
              "      <th>1996</th>\n",
              "      <td>800</td>\n",
              "      <td>3</td>\n",
              "      <td>1.0</td>\n",
              "      <td>1.0</td>\n",
              "      <td>107</td>\n",
              "      <td>Tijuca</td>\n",
              "      <td>540000</td>\n",
              "      <td>5046.73</td>\n",
              "    </tr>\n",
              "  </tbody>\n",
              "</table>\n",
              "</div>"
            ],
            "text/plain": [
              "      condominio  quartos  suites  vagas  area  bairro    preco      pm2\n",
              "1992        1080        3     1.0    1.0    80  Tijuca   680000  8500.00\n",
              "1993         750        3     0.0    1.0    82  Tijuca   650000  7926.83\n",
              "1994         700        3     1.0    1.0   100  Tijuca   629900  6299.00\n",
              "1995        1850        3     1.0    2.0   166  Tijuca  1600000  9638.55\n",
              "1996         800        3     1.0    1.0   107  Tijuca   540000  5046.73"
            ]
          },
          "metadata": {
            "tags": []
          },
          "execution_count": 40
        }
      ]
    },
    {
      "cell_type": "code",
      "metadata": {
        "colab": {
          "base_uri": "https://localhost:8080/"
        },
        "id": "RNLmXJ31w1N9",
        "outputId": "9975c5ac-7633-4f5b-a522-35f48836c50f"
      },
      "source": [
        "df[\"bairro\"].unique()\n"
      ],
      "execution_count": 41,
      "outputs": [
        {
          "output_type": "execute_result",
          "data": {
            "text/plain": [
              "array(['Botafogo', 'Copacabana', 'Gávea', 'Grajaú', 'Ipanema', 'Leblon',\n",
              "       'Tijuca'], dtype=object)"
            ]
          },
          "metadata": {
            "tags": []
          },
          "execution_count": 41
        }
      ]
    },
    {
      "cell_type": "code",
      "metadata": {
        "colab": {
          "base_uri": "https://localhost:8080/"
        },
        "id": "4afrZcdww9rM",
        "outputId": "611f03cd-3fd5-4e28-9544-5507e78790e0"
      },
      "source": [
        "df[\"bairro\"].value_counts()\n"
      ],
      "execution_count": 42,
      "outputs": [
        {
          "output_type": "execute_result",
          "data": {
            "text/plain": [
              "Copacabana    346\n",
              "Tijuca        341\n",
              "Botafogo      307\n",
              "Ipanema       281\n",
              "Leblon        280\n",
              "Grajaú        237\n",
              "Gávea         205\n",
              "Name: bairro, dtype: int64"
            ]
          },
          "metadata": {
            "tags": []
          },
          "execution_count": 42
        }
      ]
    },
    {
      "cell_type": "code",
      "metadata": {
        "colab": {
          "base_uri": "https://localhost:8080/"
        },
        "id": "sZIhfsuYxAMV",
        "outputId": "3f574959-586a-4a52-fafa-dc2bd27326f2"
      },
      "source": [
        "df[\"bairro\"]"
      ],
      "execution_count": 43,
      "outputs": [
        {
          "output_type": "execute_result",
          "data": {
            "text/plain": [
              "0       Botafogo\n",
              "1       Botafogo\n",
              "2       Botafogo\n",
              "3       Botafogo\n",
              "4       Botafogo\n",
              "          ...   \n",
              "1992      Tijuca\n",
              "1993      Tijuca\n",
              "1994      Tijuca\n",
              "1995      Tijuca\n",
              "1996      Tijuca\n",
              "Name: bairro, Length: 1997, dtype: object"
            ]
          },
          "metadata": {
            "tags": []
          },
          "execution_count": 43
        }
      ]
    },
    {
      "cell_type": "code",
      "metadata": {
        "colab": {
          "base_uri": "https://localhost:8080/"
        },
        "id": "u0TUfz5ixFds",
        "outputId": "2629eb46-6875-4554-8cbc-a129475cb97f"
      },
      "source": [
        "df[\"bairro\"].value_counts(normalize=True)\n"
      ],
      "execution_count": 44,
      "outputs": [
        {
          "output_type": "execute_result",
          "data": {
            "text/plain": [
              "Copacabana    0.173260\n",
              "Tijuca        0.170756\n",
              "Botafogo      0.153731\n",
              "Ipanema       0.140711\n",
              "Leblon        0.140210\n",
              "Grajaú        0.118678\n",
              "Gávea         0.102654\n",
              "Name: bairro, dtype: float64"
            ]
          },
          "metadata": {
            "tags": []
          },
          "execution_count": 44
        }
      ]
    },
    {
      "cell_type": "code",
      "metadata": {
        "colab": {
          "base_uri": "https://localhost:8080/",
          "height": 297
        },
        "id": "6BO3xLNxxXzM",
        "outputId": "9ed3ecca-00c5-46b6-bb0d-ce975fd51551"
      },
      "source": [
        "df.groupby(\"bairro\").mean()\n"
      ],
      "execution_count": 45,
      "outputs": [
        {
          "output_type": "execute_result",
          "data": {
            "text/html": [
              "<div>\n",
              "<style scoped>\n",
              "    .dataframe tbody tr th:only-of-type {\n",
              "        vertical-align: middle;\n",
              "    }\n",
              "\n",
              "    .dataframe tbody tr th {\n",
              "        vertical-align: top;\n",
              "    }\n",
              "\n",
              "    .dataframe thead th {\n",
              "        text-align: right;\n",
              "    }\n",
              "</style>\n",
              "<table border=\"1\" class=\"dataframe\">\n",
              "  <thead>\n",
              "    <tr style=\"text-align: right;\">\n",
              "      <th></th>\n",
              "      <th>condominio</th>\n",
              "      <th>quartos</th>\n",
              "      <th>suites</th>\n",
              "      <th>vagas</th>\n",
              "      <th>area</th>\n",
              "      <th>preco</th>\n",
              "      <th>pm2</th>\n",
              "    </tr>\n",
              "    <tr>\n",
              "      <th>bairro</th>\n",
              "      <th></th>\n",
              "      <th></th>\n",
              "      <th></th>\n",
              "      <th></th>\n",
              "      <th></th>\n",
              "      <th></th>\n",
              "      <th></th>\n",
              "    </tr>\n",
              "  </thead>\n",
              "  <tbody>\n",
              "    <tr>\n",
              "      <th>Botafogo</th>\n",
              "      <td>914.475570</td>\n",
              "      <td>2.107492</td>\n",
              "      <td>1.048860</td>\n",
              "      <td>1.159609</td>\n",
              "      <td>83.837134</td>\n",
              "      <td>1.010614e+06</td>\n",
              "      <td>12034.486189</td>\n",
              "    </tr>\n",
              "    <tr>\n",
              "      <th>Copacabana</th>\n",
              "      <td>991.861272</td>\n",
              "      <td>2.101156</td>\n",
              "      <td>1.034682</td>\n",
              "      <td>1.080925</td>\n",
              "      <td>101.855491</td>\n",
              "      <td>1.216344e+06</td>\n",
              "      <td>11965.298699</td>\n",
              "    </tr>\n",
              "    <tr>\n",
              "      <th>Grajaú</th>\n",
              "      <td>619.940928</td>\n",
              "      <td>2.097046</td>\n",
              "      <td>0.970464</td>\n",
              "      <td>1.130802</td>\n",
              "      <td>79.949367</td>\n",
              "      <td>4.788869e+05</td>\n",
              "      <td>6145.624473</td>\n",
              "    </tr>\n",
              "    <tr>\n",
              "      <th>Gávea</th>\n",
              "      <td>985.234146</td>\n",
              "      <td>2.058537</td>\n",
              "      <td>1.029268</td>\n",
              "      <td>1.200000</td>\n",
              "      <td>88.497561</td>\n",
              "      <td>1.454571e+06</td>\n",
              "      <td>16511.582780</td>\n",
              "    </tr>\n",
              "    <tr>\n",
              "      <th>Ipanema</th>\n",
              "      <td>1357.120996</td>\n",
              "      <td>2.181495</td>\n",
              "      <td>1.192171</td>\n",
              "      <td>1.220641</td>\n",
              "      <td>100.615658</td>\n",
              "      <td>2.033096e+06</td>\n",
              "      <td>19738.407794</td>\n",
              "    </tr>\n",
              "    <tr>\n",
              "      <th>Leblon</th>\n",
              "      <td>1260.010714</td>\n",
              "      <td>2.207143</td>\n",
              "      <td>1.064286</td>\n",
              "      <td>1.164286</td>\n",
              "      <td>91.832143</td>\n",
              "      <td>1.946193e+06</td>\n",
              "      <td>20761.351036</td>\n",
              "    </tr>\n",
              "    <tr>\n",
              "      <th>Tijuca</th>\n",
              "      <td>681.175953</td>\n",
              "      <td>2.131965</td>\n",
              "      <td>0.944282</td>\n",
              "      <td>1.143695</td>\n",
              "      <td>81.457478</td>\n",
              "      <td>5.750780e+05</td>\n",
              "      <td>7149.804985</td>\n",
              "    </tr>\n",
              "  </tbody>\n",
              "</table>\n",
              "</div>"
            ],
            "text/plain": [
              "             condominio   quartos  ...         preco           pm2\n",
              "bairro                             ...                            \n",
              "Botafogo     914.475570  2.107492  ...  1.010614e+06  12034.486189\n",
              "Copacabana   991.861272  2.101156  ...  1.216344e+06  11965.298699\n",
              "Grajaú       619.940928  2.097046  ...  4.788869e+05   6145.624473\n",
              "Gávea        985.234146  2.058537  ...  1.454571e+06  16511.582780\n",
              "Ipanema     1357.120996  2.181495  ...  2.033096e+06  19738.407794\n",
              "Leblon      1260.010714  2.207143  ...  1.946193e+06  20761.351036\n",
              "Tijuca       681.175953  2.131965  ...  5.750780e+05   7149.804985\n",
              "\n",
              "[7 rows x 7 columns]"
            ]
          },
          "metadata": {
            "tags": []
          },
          "execution_count": 45
        }
      ]
    },
    {
      "cell_type": "code",
      "metadata": {
        "colab": {
          "base_uri": "https://localhost:8080/"
        },
        "id": "NzbspwThxpqu",
        "outputId": "b9119310-8d6e-4a89-8be3-67fc1c85f386"
      },
      "source": [
        "df.groupby(\"bairro\").mean()[\"pm2\"].sort_values()\n"
      ],
      "execution_count": 46,
      "outputs": [
        {
          "output_type": "execute_result",
          "data": {
            "text/plain": [
              "bairro\n",
              "Grajaú         6145.624473\n",
              "Tijuca         7149.804985\n",
              "Copacabana    11965.298699\n",
              "Botafogo      12034.486189\n",
              "Gávea         16511.582780\n",
              "Ipanema       19738.407794\n",
              "Leblon        20761.351036\n",
              "Name: pm2, dtype: float64"
            ]
          },
          "metadata": {
            "tags": []
          },
          "execution_count": 46
        }
      ]
    },
    {
      "cell_type": "code",
      "metadata": {
        "colab": {
          "base_uri": "https://localhost:8080/"
        },
        "id": "nrwUKTImxD79",
        "outputId": "f182748d-56ad-48d0-c4e8-68167fcd2663"
      },
      "source": [
        "df[\"bairro\"].apply(lambda x: x[:3])\n"
      ],
      "execution_count": 47,
      "outputs": [
        {
          "output_type": "execute_result",
          "data": {
            "text/plain": [
              "0       Bot\n",
              "1       Bot\n",
              "2       Bot\n",
              "3       Bot\n",
              "4       Bot\n",
              "       ... \n",
              "1992    Tij\n",
              "1993    Tij\n",
              "1994    Tij\n",
              "1995    Tij\n",
              "1996    Tij\n",
              "Name: bairro, Length: 1997, dtype: object"
            ]
          },
          "metadata": {
            "tags": []
          },
          "execution_count": 47
        }
      ]
    },
    {
      "cell_type": "code",
      "metadata": {
        "colab": {
          "base_uri": "https://localhost:8080/",
          "height": 295
        },
        "id": "lqKbB7Fezu6O",
        "outputId": "bb675fd8-c737-446f-ac07-23366daf67c7"
      },
      "source": [
        "df[\"preco\"].plot.hist()\n"
      ],
      "execution_count": 48,
      "outputs": [
        {
          "output_type": "execute_result",
          "data": {
            "text/plain": [
              "<matplotlib.axes._subplots.AxesSubplot at 0x7fa0aacad510>"
            ]
          },
          "metadata": {
            "tags": []
          },
          "execution_count": 48
        },
        {
          "output_type": "display_data",
          "data": {
            "image/png": "[encoded data removed]",
            "text/plain": [
              "<Figure size 432x288 with 1 Axes>"
            ]
          },
          "metadata": {
            "tags": [],
            "needs_background": "light"
          }
        }
      ]
    },
    {
      "cell_type": "code",
      "metadata": {
        "colab": {
          "base_uri": "https://localhost:8080/",
          "height": 311
        },
        "id": "bIJDt_CUzwDW",
        "outputId": "4ce53ce2-01af-480f-e1a6-ecbd903b5cc0"
      },
      "source": [
        "df[\"preco\"].plot.hist(bins=30, edgecolor='black', title=\"Histograma de Preços\")\n"
      ],
      "execution_count": 49,
      "outputs": [
        {
          "output_type": "execute_result",
          "data": {
            "text/plain": [
              "<matplotlib.axes._subplots.AxesSubplot at 0x7fa0aa758690>"
            ]
          },
          "metadata": {
            "tags": []
          },
          "execution_count": 49
        },
        {
          "output_type": "display_data",
          "data": {
            "image/png": "[encoded data removed]",
            "text/plain": [
              "<Figure size 432x288 with 1 Axes>"
            ]
          },
          "metadata": {
            "tags": [],
            "needs_background": "light"
          }
        }
      ]
    },
    {
      "cell_type": "code",
      "metadata": {
        "colab": {
          "base_uri": "https://localhost:8080/",
          "height": 334
        },
        "id": "Ci9Jvq3S0aAn",
        "outputId": "84d1483a-4e47-40b8-e714-1a4edb7b4a65"
      },
      "source": [
        "df[\"bairro\"].value_counts().plot.bar()\n"
      ],
      "execution_count": 50,
      "outputs": [
        {
          "output_type": "execute_result",
          "data": {
            "text/plain": [
              "<matplotlib.axes._subplots.AxesSubplot at 0x7fa0aa6ae3d0>"
            ]
          },
          "metadata": {
            "tags": []
          },
          "execution_count": 50
        },
        {
          "output_type": "display_data",
          "data": {
            "image/png": "[encoded data removed]",
            "text/plain": [
              "<Figure size 432x288 with 1 Axes>"
            ]
          },
          "metadata": {
            "tags": [],
            "needs_background": "light"
          }
        }
      ]
    },
    {
      "cell_type": "code",
      "metadata": {
        "colab": {
          "base_uri": "https://localhost:8080/",
          "height": 298
        },
        "id": "ULkl06at1JQn",
        "outputId": "33247bb1-0b28-4539-ca95-c579c39c65b6"
      },
      "source": [
        "df[\"bairro\"].value_counts().plot.barh(title=\"Número de apartamentos por bairro\", color=['green','blue'])\n"
      ],
      "execution_count": 51,
      "outputs": [
        {
          "output_type": "execute_result",
          "data": {
            "text/plain": [
              "<matplotlib.axes._subplots.AxesSubplot at 0x7fa0aa693c90>"
            ]
          },
          "metadata": {
            "tags": []
          },
          "execution_count": 51
        },
        {
          "output_type": "display_data",
          "data": {
            "image/png": "[encoded data removed]",
            "text/plain": [
              "<Figure size 432x288 with 1 Axes>"
            ]
          },
          "metadata": {
            "tags": [],
            "needs_background": "light"
          }
        }
      ]
    },
    {
      "cell_type": "code",
      "metadata": {
        "colab": {
          "base_uri": "https://localhost:8080/",
          "height": 296
        },
        "id": "Q3vtkJrS1MlH",
        "outputId": "309fdbba-4d8d-4d78-b9e5-e74b5fe8faab"
      },
      "source": [
        "df.plot.scatter(x='preco', y='area')\n"
      ],
      "execution_count": 52,
      "outputs": [
        {
          "output_type": "execute_result",
          "data": {
            "text/plain": [
              "<matplotlib.axes._subplots.AxesSubplot at 0x7fa0aa5b2850>"
            ]
          },
          "metadata": {
            "tags": []
          },
          "execution_count": 52
        },
        {
          "output_type": "display_data",
          "data": {
            "image/png": "[encoded data removed]",
            "text/plain": [
              "<Figure size 432x288 with 1 Axes>"
            ]
          },
          "metadata": {
            "tags": [],
            "needs_background": "light"
          }
        }
      ]
    },
    {
      "cell_type": "code",
      "metadata": {
        "colab": {
          "base_uri": "https://localhost:8080/",
          "height": 299
        },
        "id": "-2mD4JQj2q9k",
        "outputId": "e10e3ebd-f131-44d2-c3c5-500d7dcaf0cc"
      },
      "source": [
        "plt.style.use('ggplot')\n",
        "df.plot.scatter(x='pm2', y='area')\n"
      ],
      "execution_count": 53,
      "outputs": [
        {
          "output_type": "execute_result",
          "data": {
            "text/plain": [
              "<matplotlib.axes._subplots.AxesSubplot at 0x7fa0aa537850>"
            ]
          },
          "metadata": {
            "tags": []
          },
          "execution_count": 53
        },
        {
          "output_type": "display_data",
          "data": {
            "image/png": "[encoded data removed]",
            "text/plain": [
              "<Figure size 432x288 with 1 Axes>"
            ]
          },
          "metadata": {
            "tags": []
          }
        }
      ]
    },
    {
      "cell_type": "code",
      "metadata": {
        "id": "ktNCJEoV2yAD",
        "colab": {
          "base_uri": "https://localhost:8080/"
        },
        "outputId": "f3b82c03-67fd-43b9-f6ab-fe6807828026"
      },
      "source": [
        "plt.style.available\n"
      ],
      "execution_count": 54,
      "outputs": [
        {
          "output_type": "execute_result",
          "data": {
            "text/plain": [
              "['Solarize_Light2',\n",
              " '_classic_test_patch',\n",
              " 'bmh',\n",
              " 'classic',\n",
              " 'dark_background',\n",
              " 'fast',\n",
              " 'fivethirtyeight',\n",
              " 'ggplot',\n",
              " 'grayscale',\n",
              " 'seaborn',\n",
              " 'seaborn-bright',\n",
              " 'seaborn-colorblind',\n",
              " 'seaborn-dark',\n",
              " 'seaborn-dark-palette',\n",
              " 'seaborn-darkgrid',\n",
              " 'seaborn-deep',\n",
              " 'seaborn-muted',\n",
              " 'seaborn-notebook',\n",
              " 'seaborn-paper',\n",
              " 'seaborn-pastel',\n",
              " 'seaborn-poster',\n",
              " 'seaborn-talk',\n",
              " 'seaborn-ticks',\n",
              " 'seaborn-white',\n",
              " 'seaborn-whitegrid',\n",
              " 'tableau-colorblind10']"
            ]
          },
          "metadata": {
            "tags": []
          },
          "execution_count": 54
        }
      ]
    },
    {
      "cell_type": "code",
      "metadata": {
        "colab": {
          "base_uri": "https://localhost:8080/",
          "height": 265
        },
        "id": "1tjTJiyyLPVB",
        "outputId": "14b1b6e8-9a61-477f-e3ae-67528037f237"
      },
      "source": [
        "df[\"quartos\"].value_counts().plot.pie()\n"
      ],
      "execution_count": 55,
      "outputs": [
        {
          "output_type": "execute_result",
          "data": {
            "text/plain": [
              "<matplotlib.axes._subplots.AxesSubplot at 0x7fa0aa45c850>"
            ]
          },
          "metadata": {
            "tags": []
          },
          "execution_count": 55
        },
        {
          "output_type": "display_data",
          "data": {
            "image/png": "[encoded data removed]",
            "text/plain": [
              "<Figure size 432x288 with 1 Axes>"
            ]
          },
          "metadata": {
            "tags": []
          }
        }
      ]
    }
  ]
}