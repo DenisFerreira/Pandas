{
  "nbformat": 4,
  "nbformat_minor": 0,
  "metadata": {
    "colab": {
      "name": "Modelo de IA.ipynb",
      "provenance": [],
      "collapsed_sections": [],
      "authorship_tag": "ABX9TyNSK45yYNLBXH+bpLScs+vw",
      "include_colab_link": true
    },
    "kernelspec": {
      "name": "python3",
      "display_name": "Python 3"
    },
    "language_info": {
      "name": "python"
    }
  },
  "cells": [
    {
      "cell_type": "markdown",
      "metadata": {
        "id": "view-in-github",
        "colab_type": "text"
      },
      "source": [
        "<a href=\"https://colab.research.google.com/github/DenisFerreira/Pandas/blob/main/Modelo_de_IA.ipynb\" target=\"_parent\"><img src=\"https://colab.research.google.com/assets/colab-badge.svg\" alt=\"Open In Colab\"/></a>"
      ]
    },
    {
      "cell_type": "code",
      "metadata": {
        "id": "5ONaX2dmr5gv"
      },
      "source": [
        "import pandas as pd\n",
        "arquivo = pd.read_csv(\"https://raw.githubusercontent.com/DenisFerreira/Pandas/main/wine_dataset.csv\")\n",
        "arquivo['style'] = arquivo['style'].replace('red', 0)\n",
        "arquivo['style'] = arquivo['style'].replace('white', 1)"
      ],
      "execution_count": 20,
      "outputs": []
    },
    {
      "cell_type": "markdown",
      "metadata": {
        "id": "YSvy3JrQu5TA"
      },
      "source": [
        "Separar as variáveis preditivas e variável alvo"
      ]
    },
    {
      "cell_type": "code",
      "metadata": {
        "id": "um6fL7RLu2zH"
      },
      "source": [
        "y = arquivo['style']\n",
        "x = arquivo.drop('style', axis=1)"
      ],
      "execution_count": 21,
      "outputs": []
    },
    {
      "cell_type": "markdown",
      "metadata": {
        "id": "QXC7_Ap2vqs8"
      },
      "source": [
        "Separar os conjuntos de testes para treinamento\n"
      ]
    },
    {
      "cell_type": "code",
      "metadata": {
        "id": "EtIB5GTRvHF0"
      },
      "source": [
        "from sklearn.model_selection import train_test_split\n",
        "x_treino, x_teste, y_treino, y_teste = train_test_split(x, y, test_size= 0.3)"
      ],
      "execution_count": 22,
      "outputs": []
    },
    {
      "cell_type": "markdown",
      "metadata": {
        "id": "B8b6E9sl0wuT"
      },
      "source": [
        "Treinar e testar utilizando o algoritmo ExtraTreesClassifier."
      ]
    },
    {
      "cell_type": "code",
      "metadata": {
        "colab": {
          "base_uri": "https://localhost:8080/"
        },
        "id": "EgJO8s3VvpXs",
        "outputId": "c102c759-5e13-46d5-a2f7-201fac225a09"
      },
      "source": [
        "from sklearn.ensemble import ExtraTreesClassifier\n",
        "modelo = ExtraTreesClassifier()\n",
        "modelo.fit(x_treino, y_treino)\n",
        "\n",
        "resultado = modelo.score(x_teste, y_teste)\n",
        "print(\"Acurácia: \", resultado)"
      ],
      "execution_count": 23,
      "outputs": [
        {
          "output_type": "stream",
          "text": [
            "Acurácia:  0.9928205128205129\n"
          ],
          "name": "stdout"
        }
      ]
    },
    {
      "cell_type": "code",
      "metadata": {
        "colab": {
          "base_uri": "https://localhost:8080/"
        },
        "id": "ej7Iwa3O1UAv",
        "outputId": "1fcffa86-a56a-4560-b1d5-35d25856eaf9"
      },
      "source": [
        "y_teste[400:403]"
      ],
      "execution_count": 24,
      "outputs": [
        {
          "output_type": "execute_result",
          "data": {
            "text/plain": [
              "2075    1\n",
              "1076    0\n",
              "2007    1\n",
              "Name: style, dtype: int64"
            ]
          },
          "metadata": {
            "tags": []
          },
          "execution_count": 24
        }
      ]
    },
    {
      "cell_type": "code",
      "metadata": {
        "colab": {
          "base_uri": "https://localhost:8080/",
          "height": 162
        },
        "id": "1DBUiqV21abH",
        "outputId": "dc1b13dd-9457-423d-d6d8-458a3538d7be"
      },
      "source": [
        "x_teste[400:403]"
      ],
      "execution_count": 25,
      "outputs": [
        {
          "output_type": "execute_result",
          "data": {
            "text/html": [
              "<div>\n",
              "<style scoped>\n",
              "    .dataframe tbody tr th:only-of-type {\n",
              "        vertical-align: middle;\n",
              "    }\n",
              "\n",
              "    .dataframe tbody tr th {\n",
              "        vertical-align: top;\n",
              "    }\n",
              "\n",
              "    .dataframe thead th {\n",
              "        text-align: right;\n",
              "    }\n",
              "</style>\n",
              "<table border=\"1\" class=\"dataframe\">\n",
              "  <thead>\n",
              "    <tr style=\"text-align: right;\">\n",
              "      <th></th>\n",
              "      <th>fixed_acidity</th>\n",
              "      <th>volatile_acidity</th>\n",
              "      <th>citric_acid</th>\n",
              "      <th>residual_sugar</th>\n",
              "      <th>chlorides</th>\n",
              "      <th>free_sulfur_dioxide</th>\n",
              "      <th>total_sulfur_dioxide</th>\n",
              "      <th>density</th>\n",
              "      <th>pH</th>\n",
              "      <th>sulphates</th>\n",
              "      <th>alcohol</th>\n",
              "      <th>quality</th>\n",
              "    </tr>\n",
              "  </thead>\n",
              "  <tbody>\n",
              "    <tr>\n",
              "      <th>2075</th>\n",
              "      <td>7.4</td>\n",
              "      <td>0.28</td>\n",
              "      <td>0.36</td>\n",
              "      <td>1.1</td>\n",
              "      <td>0.028</td>\n",
              "      <td>42.0</td>\n",
              "      <td>105.0</td>\n",
              "      <td>0.98930</td>\n",
              "      <td>2.99</td>\n",
              "      <td>0.39</td>\n",
              "      <td>12.4</td>\n",
              "      <td>7</td>\n",
              "    </tr>\n",
              "    <tr>\n",
              "      <th>1076</th>\n",
              "      <td>9.9</td>\n",
              "      <td>0.32</td>\n",
              "      <td>0.56</td>\n",
              "      <td>2.0</td>\n",
              "      <td>0.073</td>\n",
              "      <td>3.0</td>\n",
              "      <td>8.0</td>\n",
              "      <td>0.99534</td>\n",
              "      <td>3.15</td>\n",
              "      <td>0.73</td>\n",
              "      <td>11.4</td>\n",
              "      <td>6</td>\n",
              "    </tr>\n",
              "    <tr>\n",
              "      <th>2007</th>\n",
              "      <td>6.3</td>\n",
              "      <td>0.14</td>\n",
              "      <td>0.39</td>\n",
              "      <td>1.2</td>\n",
              "      <td>0.044</td>\n",
              "      <td>26.0</td>\n",
              "      <td>116.0</td>\n",
              "      <td>0.99200</td>\n",
              "      <td>3.26</td>\n",
              "      <td>0.53</td>\n",
              "      <td>10.3</td>\n",
              "      <td>6</td>\n",
              "    </tr>\n",
              "  </tbody>\n",
              "</table>\n",
              "</div>"
            ],
            "text/plain": [
              "      fixed_acidity  volatile_acidity  citric_acid  ...  sulphates  alcohol  quality\n",
              "2075            7.4              0.28         0.36  ...       0.39     12.4        7\n",
              "1076            9.9              0.32         0.56  ...       0.73     11.4        6\n",
              "2007            6.3              0.14         0.39  ...       0.53     10.3        6\n",
              "\n",
              "[3 rows x 12 columns]"
            ]
          },
          "metadata": {
            "tags": []
          },
          "execution_count": 25
        }
      ]
    },
    {
      "cell_type": "code",
      "metadata": {
        "colab": {
          "base_uri": "https://localhost:8080/"
        },
        "id": "Tb4VUxHc1mcu",
        "outputId": "b6e7b893-36a2-483b-d0c4-c8be7c1b374b"
      },
      "source": [
        "modelo.predict(x_teste[400:403])"
      ],
      "execution_count": 28,
      "outputs": [
        {
          "output_type": "execute_result",
          "data": {
            "text/plain": [
              "array([1, 0, 1])"
            ]
          },
          "metadata": {
            "tags": []
          },
          "execution_count": 28
        }
      ]
    }
  ]
}